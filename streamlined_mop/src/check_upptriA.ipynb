{
 "cells": [
  {
   "cell_type": "code",
   "execution_count": 1,
   "metadata": {},
   "outputs": [],
   "source": [
    "import numpy as np"
   ]
  },
  {
   "cell_type": "code",
   "execution_count": 6,
   "metadata": {},
   "outputs": [
    {
     "name": "stdout",
     "output_type": "stream",
     "text": [
      "6000\n"
     ]
    }
   ],
   "source": [
    "# load validation data from /Users/sultandaniels/Documents/Transformer_Kalman/outputs/GPT2/240619_070456.1e49ad_upperTriA_gauss_C/data/val_upperTriA_gauss_C.pkl\n",
    "val_data = np.load('/Users/sultandaniels/Documents/Transformer_Kalman/outputs/GPT2/240619_070456.1e49ad_upperTriA_gauss_C/data/val_upperTriA_gauss_C.pkl', allow_pickle=True)\n",
    "print(len(val_data))"
   ]
  },
  {
   "cell_type": "code",
   "execution_count": 9,
   "metadata": {},
   "outputs": [
    {
     "name": "stdout",
     "output_type": "stream",
     "text": [
      "dict_keys(['states', 'obs', 'A', 'C'])\n"
     ]
    }
   ],
   "source": [
    "print(val_data[0].keys())"
   ]
  },
  {
   "cell_type": "code",
   "execution_count": 13,
   "metadata": {},
   "outputs": [
    {
     "name": "stdout",
     "output_type": "stream",
     "text": [
      "np.all(np.triu(A0) == A0) is  True\n",
      "All A are upper triangular\n"
     ]
    }
   ],
   "source": [
    "A0 = val_data[0]['A']\n",
    "#check if A0 is upper triangular\n",
    "print(\"np.all(np.triu(A0) == A0) is \", np.all(np.triu(A0) == A0))\n",
    "\n",
    "for i in range(len(val_data)):\n",
    "    A = val_data[i]['A']\n",
    "    if not np.all(np.triu(A) == A):\n",
    "        print(\"A is not upper triangular\")\n",
    "        print(i)\n",
    "        break\n",
    "print(\"All A are upper triangular\")\n",
    "\n"
   ]
  },
  {
   "cell_type": "code",
   "execution_count": 3,
   "metadata": {},
   "outputs": [
    {
     "name": "stdout",
     "output_type": "stream",
     "text": [
      "array [[[0.18960546 0.04282465 0.16142484 0.19674476]\n",
      "  [0.39188079 0.23064968 0.05314969 0.68640221]]\n",
      "\n",
      " [[0.09587213 0.58825714 0.93439877 0.95156362]\n",
      "  [0.21806364 0.70914652 0.05904838 0.9130775 ]]\n",
      "\n",
      " [[0.79584719 0.40109639 0.18576027 0.44005899]\n",
      "  [0.85885428 0.22000314 0.29155903 0.52291018]]]\n",
      "divisor [0.35409767 0.67480933 0.7730006 ]\n",
      "result_2 [[[0.53546093 0.12094021 0.4558766  0.55562286]\n",
      "  [1.10670254 0.65137307 0.15009895 1.93845449]]\n",
      "\n",
      " [[0.14207291 0.8717383  1.38468562 1.41012222]\n",
      "  [0.32314853 1.05088429 0.0875038  1.35308962]]\n",
      "\n",
      " [[1.02955571 0.51888238 0.24031064 0.56928674]\n",
      "  [1.11106547 0.28460927 0.37717827 0.676468  ]]]\n",
      "result [[[0.53546093 0.12094021 0.4558766  0.55562286]\n",
      "  [1.10670254 0.65137307 0.15009895 1.93845449]]\n",
      "\n",
      " [[0.14207291 0.8717383  1.38468562 1.41012222]\n",
      "  [0.32314853 1.05088429 0.0875038  1.35308962]]\n",
      "\n",
      " [[1.02955571 0.51888238 0.24031064 0.56928674]\n",
      "  [1.11106547 0.28460927 0.37717827 0.676468  ]]]\n"
     ]
    }
   ],
   "source": [
    "\n",
    "\n",
    "# # Example arrays\n",
    "# array = np.random.rand(3, 2, 4)  # (3, 200, 251) array\n",
    "# divisor = np.random.rand(3)          # (3) array\n",
    "\n",
    "# print(\"array\", array)\n",
    "# print(\"divisor\", divisor)\n",
    "\n",
    "# result_2 = np.zeros_like(array)\n",
    "# for i in range(array.shape[0]):\n",
    "#     result_2[i] = array[i] / divisor[i]\n",
    "\n",
    "# print(\"result_2\", result_2)\n",
    "# # Element-wise division across axis 0 using broadcasting\n",
    "# result = array / divisor[:, np.newaxis, np.newaxis]\n",
    "\n",
    "# print(\"result\", result)"
   ]
  },
  {
   "cell_type": "code",
   "execution_count": null,
   "metadata": {},
   "outputs": [],
   "source": []
  }
 ],
 "metadata": {
  "kernelspec": {
   "display_name": "Python 3",
   "language": "python",
   "name": "python3"
  },
  "language_info": {
   "codemirror_mode": {
    "name": "ipython",
    "version": 3
   },
   "file_extension": ".py",
   "mimetype": "text/x-python",
   "name": "python",
   "nbconvert_exporter": "python",
   "pygments_lexer": "ipython3",
   "version": "3.8.12"
  }
 },
 "nbformat": 4,
 "nbformat_minor": 2
}
