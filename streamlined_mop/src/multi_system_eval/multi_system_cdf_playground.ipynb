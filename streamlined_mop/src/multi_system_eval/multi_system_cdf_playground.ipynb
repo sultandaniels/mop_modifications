{
 "cells": [
  {
   "cell_type": "code",
   "execution_count": 2,
   "metadata": {},
   "outputs": [
    {
     "name": "stdout",
     "output_type": "stream",
     "text": [
      "Defaulting to user installation because normal site-packages is not writeable\n",
      "Requirement already satisfied: numpy in /home/sultand/.local/lib/python3.12/site-packages (2.1.1)\n"
     ]
    }
   ],
   "source": [
    "!pip install numpy"
   ]
  },
  {
   "cell_type": "code",
   "execution_count": 3,
   "metadata": {},
   "outputs": [
    {
     "name": "stdout",
     "output_type": "stream",
     "text": [
      "Defaulting to user installation because normal site-packages is not writeable\n",
      "Requirement already satisfied: matplotlib in /home/sultand/.local/lib/python3.12/site-packages (3.9.2)\n",
      "Requirement already satisfied: contourpy>=1.0.1 in /home/sultand/.local/lib/python3.12/site-packages (from matplotlib) (1.3.0)\n",
      "Requirement already satisfied: cycler>=0.10 in /home/sultand/.local/lib/python3.12/site-packages (from matplotlib) (0.12.1)\n",
      "Requirement already satisfied: fonttools>=4.22.0 in /home/sultand/.local/lib/python3.12/site-packages (from matplotlib) (4.54.1)\n",
      "Requirement already satisfied: kiwisolver>=1.3.1 in /home/sultand/.local/lib/python3.12/site-packages (from matplotlib) (1.4.7)\n",
      "Requirement already satisfied: numpy>=1.23 in /home/sultand/.local/lib/python3.12/site-packages (from matplotlib) (2.1.1)\n",
      "Requirement already satisfied: packaging>=20.0 in /opt/miniconda/lib/python3.12/site-packages (from matplotlib) (23.2)\n",
      "Requirement already satisfied: pillow>=8 in /home/sultand/.local/lib/python3.12/site-packages (from matplotlib) (10.4.0)\n",
      "Requirement already satisfied: pyparsing>=2.3.1 in /home/sultand/.local/lib/python3.12/site-packages (from matplotlib) (3.1.4)\n",
      "Requirement already satisfied: python-dateutil>=2.7 in /home/sultand/.local/lib/python3.12/site-packages (from matplotlib) (2.9.0.post0)\n",
      "Requirement already satisfied: six>=1.5 in /home/sultand/.local/lib/python3.12/site-packages (from python-dateutil>=2.7->matplotlib) (1.16.0)\n",
      "Defaulting to user installation because normal site-packages is not writeable\n",
      "\u001b[31mERROR: Could not find a version that satisfies the requirement pickle (from versions: none)\u001b[0m\u001b[31m\n",
      "\u001b[0m\u001b[31mERROR: No matching distribution found for pickle\u001b[0m\u001b[31m\n",
      "\u001b[0mDefaulting to user installation because normal site-packages is not writeable\n",
      "\u001b[31mERROR: Could not find a version that satisfies the requirement os (from versions: none)\u001b[0m\u001b[31m\n",
      "\u001b[0m\u001b[31mERROR: No matching distribution found for os\u001b[0m\u001b[31m\n",
      "\u001b[0mDefaulting to user installation because normal site-packages is not writeable\n",
      "\u001b[31mERROR: Could not find a version that satisfies the requirement time (from versions: none)\u001b[0m\u001b[31m\n",
      "\u001b[0m\u001b[31mERROR: No matching distribution found for time\u001b[0m\u001b[31m\n",
      "\u001b[0m"
     ]
    }
   ],
   "source": [
    "!pip install matplotlib\n",
    "!pip install pickle\n",
    "!pip install os\n",
    "!pip install time"
   ]
  },
  {
   "cell_type": "code",
   "execution_count": 4,
   "metadata": {},
   "outputs": [
    {
     "name": "stdout",
     "output_type": "stream",
     "text": [
      "Defaulting to user installation because normal site-packages is not writeable\n",
      "Requirement already satisfied: statsmodels in /home/sultand/.local/lib/python3.12/site-packages (0.14.4)\n",
      "Requirement already satisfied: numpy<3,>=1.22.3 in /home/sultand/.local/lib/python3.12/site-packages (from statsmodels) (2.1.1)\n",
      "Requirement already satisfied: scipy!=1.9.2,>=1.8 in /home/sultand/.local/lib/python3.12/site-packages (from statsmodels) (1.14.1)\n",
      "Requirement already satisfied: pandas!=2.1.0,>=1.4 in /home/sultand/.local/lib/python3.12/site-packages (from statsmodels) (2.2.3)\n",
      "Requirement already satisfied: patsy>=0.5.6 in /home/sultand/.local/lib/python3.12/site-packages (from statsmodels) (0.5.6)\n",
      "Requirement already satisfied: packaging>=21.3 in /opt/miniconda/lib/python3.12/site-packages (from statsmodels) (23.2)\n",
      "Requirement already satisfied: python-dateutil>=2.8.2 in /home/sultand/.local/lib/python3.12/site-packages (from pandas!=2.1.0,>=1.4->statsmodels) (2.9.0.post0)\n",
      "Requirement already satisfied: pytz>=2020.1 in /home/sultand/.local/lib/python3.12/site-packages (from pandas!=2.1.0,>=1.4->statsmodels) (2024.2)\n",
      "Requirement already satisfied: tzdata>=2022.7 in /home/sultand/.local/lib/python3.12/site-packages (from pandas!=2.1.0,>=1.4->statsmodels) (2024.2)\n",
      "Requirement already satisfied: six in /home/sultand/.local/lib/python3.12/site-packages (from patsy>=0.5.6->statsmodels) (1.16.0)\n"
     ]
    }
   ],
   "source": [
    "!pip install statsmodels"
   ]
  },
  {
   "cell_type": "code",
   "execution_count": 6,
   "metadata": {},
   "outputs": [
    {
     "name": "stdout",
     "output_type": "stream",
     "text": [
      "Defaulting to user installation because normal site-packages is not writeable\n",
      "Requirement already satisfied: coloredlogs in /home/sultand/.local/lib/python3.12/site-packages (15.0.1)\n",
      "Requirement already satisfied: humanfriendly>=9.1 in /home/sultand/.local/lib/python3.12/site-packages (from coloredlogs) (10.0)\n"
     ]
    }
   ],
   "source": [
    "!pip install coloredlogs"
   ]
  },
  {
   "cell_type": "code",
   "execution_count": 7,
   "metadata": {},
   "outputs": [
    {
     "name": "stdout",
     "output_type": "stream",
     "text": [
      "Defaulting to user installation because normal site-packages is not writeable\n",
      "Requirement already satisfied: torch in /home/sultand/.local/lib/python3.12/site-packages (2.4.1)\n",
      "Requirement already satisfied: filelock in /home/sultand/.local/lib/python3.12/site-packages (from torch) (3.16.1)\n",
      "Requirement already satisfied: typing-extensions>=4.8.0 in /home/sultand/.local/lib/python3.12/site-packages (from torch) (4.12.2)\n",
      "Requirement already satisfied: sympy in /home/sultand/.local/lib/python3.12/site-packages (from torch) (1.13.3)\n",
      "Requirement already satisfied: networkx in /home/sultand/.local/lib/python3.12/site-packages (from torch) (3.3)\n",
      "Requirement already satisfied: jinja2 in /home/sultand/.local/lib/python3.12/site-packages (from torch) (3.1.4)\n",
      "Requirement already satisfied: fsspec in /home/sultand/.local/lib/python3.12/site-packages (from torch) (2024.9.0)\n",
      "Requirement already satisfied: setuptools in /opt/miniconda/lib/python3.12/site-packages (from torch) (69.5.1)\n",
      "Requirement already satisfied: nvidia-cuda-nvrtc-cu12==12.1.105 in /home/sultand/.local/lib/python3.12/site-packages (from torch) (12.1.105)\n",
      "Requirement already satisfied: nvidia-cuda-runtime-cu12==12.1.105 in /home/sultand/.local/lib/python3.12/site-packages (from torch) (12.1.105)\n",
      "Requirement already satisfied: nvidia-cuda-cupti-cu12==12.1.105 in /home/sultand/.local/lib/python3.12/site-packages (from torch) (12.1.105)\n",
      "Requirement already satisfied: nvidia-cudnn-cu12==9.1.0.70 in /home/sultand/.local/lib/python3.12/site-packages (from torch) (9.1.0.70)\n",
      "Requirement already satisfied: nvidia-cublas-cu12==12.1.3.1 in /home/sultand/.local/lib/python3.12/site-packages (from torch) (12.1.3.1)\n",
      "Requirement already satisfied: nvidia-cufft-cu12==11.0.2.54 in /home/sultand/.local/lib/python3.12/site-packages (from torch) (11.0.2.54)\n",
      "Requirement already satisfied: nvidia-curand-cu12==10.3.2.106 in /home/sultand/.local/lib/python3.12/site-packages (from torch) (10.3.2.106)\n",
      "Requirement already satisfied: nvidia-cusolver-cu12==11.4.5.107 in /home/sultand/.local/lib/python3.12/site-packages (from torch) (11.4.5.107)\n",
      "Requirement already satisfied: nvidia-cusparse-cu12==12.1.0.106 in /home/sultand/.local/lib/python3.12/site-packages (from torch) (12.1.0.106)\n",
      "Requirement already satisfied: nvidia-nccl-cu12==2.20.5 in /home/sultand/.local/lib/python3.12/site-packages (from torch) (2.20.5)\n",
      "Requirement already satisfied: nvidia-nvtx-cu12==12.1.105 in /home/sultand/.local/lib/python3.12/site-packages (from torch) (12.1.105)\n",
      "Requirement already satisfied: triton==3.0.0 in /home/sultand/.local/lib/python3.12/site-packages (from torch) (3.0.0)\n",
      "Requirement already satisfied: nvidia-nvjitlink-cu12 in /home/sultand/.local/lib/python3.12/site-packages (from nvidia-cusolver-cu12==11.4.5.107->torch) (12.6.77)\n",
      "Requirement already satisfied: MarkupSafe>=2.0 in /home/sultand/.local/lib/python3.12/site-packages (from jinja2->torch) (2.1.5)\n",
      "Requirement already satisfied: mpmath<1.4,>=1.1.0 in /home/sultand/.local/lib/python3.12/site-packages (from sympy->torch) (1.3.0)\n"
     ]
    }
   ],
   "source": [
    "!pip install torch"
   ]
  },
  {
   "cell_type": "code",
   "execution_count": 8,
   "metadata": {},
   "outputs": [
    {
     "name": "stdout",
     "output_type": "stream",
     "text": [
      "Defaulting to user installation because normal site-packages is not writeable\n",
      "Requirement already satisfied: pytorch_lightning in /home/sultand/.local/lib/python3.12/site-packages (2.4.0)\n",
      "Requirement already satisfied: torch>=2.1.0 in /home/sultand/.local/lib/python3.12/site-packages (from pytorch_lightning) (2.4.1)\n",
      "Requirement already satisfied: tqdm>=4.57.0 in /opt/miniconda/lib/python3.12/site-packages (from pytorch_lightning) (4.66.2)\n",
      "Requirement already satisfied: PyYAML>=5.4 in /home/sultand/.local/lib/python3.12/site-packages (from pytorch_lightning) (6.0.2)\n",
      "Requirement already satisfied: fsspec>=2022.5.0 in /home/sultand/.local/lib/python3.12/site-packages (from fsspec[http]>=2022.5.0->pytorch_lightning) (2024.9.0)\n",
      "Requirement already satisfied: torchmetrics>=0.7.0 in /home/sultand/.local/lib/python3.12/site-packages (from pytorch_lightning) (1.4.2)\n",
      "Requirement already satisfied: packaging>=20.0 in /opt/miniconda/lib/python3.12/site-packages (from pytorch_lightning) (23.2)\n",
      "Requirement already satisfied: typing-extensions>=4.4.0 in /home/sultand/.local/lib/python3.12/site-packages (from pytorch_lightning) (4.12.2)\n",
      "Requirement already satisfied: lightning-utilities>=0.10.0 in /home/sultand/.local/lib/python3.12/site-packages (from pytorch_lightning) (0.11.7)\n",
      "Requirement already satisfied: aiohttp!=4.0.0a0,!=4.0.0a1 in /home/sultand/.local/lib/python3.12/site-packages (from fsspec[http]>=2022.5.0->pytorch_lightning) (3.10.8)\n",
      "Requirement already satisfied: setuptools in /opt/miniconda/lib/python3.12/site-packages (from lightning-utilities>=0.10.0->pytorch_lightning) (69.5.1)\n",
      "Requirement already satisfied: filelock in /home/sultand/.local/lib/python3.12/site-packages (from torch>=2.1.0->pytorch_lightning) (3.16.1)\n",
      "Requirement already satisfied: sympy in /home/sultand/.local/lib/python3.12/site-packages (from torch>=2.1.0->pytorch_lightning) (1.13.3)\n",
      "Requirement already satisfied: networkx in /home/sultand/.local/lib/python3.12/site-packages (from torch>=2.1.0->pytorch_lightning) (3.3)\n",
      "Requirement already satisfied: jinja2 in /home/sultand/.local/lib/python3.12/site-packages (from torch>=2.1.0->pytorch_lightning) (3.1.4)\n",
      "Requirement already satisfied: nvidia-cuda-nvrtc-cu12==12.1.105 in /home/sultand/.local/lib/python3.12/site-packages (from torch>=2.1.0->pytorch_lightning) (12.1.105)\n",
      "Requirement already satisfied: nvidia-cuda-runtime-cu12==12.1.105 in /home/sultand/.local/lib/python3.12/site-packages (from torch>=2.1.0->pytorch_lightning) (12.1.105)\n",
      "Requirement already satisfied: nvidia-cuda-cupti-cu12==12.1.105 in /home/sultand/.local/lib/python3.12/site-packages (from torch>=2.1.0->pytorch_lightning) (12.1.105)\n",
      "Requirement already satisfied: nvidia-cudnn-cu12==9.1.0.70 in /home/sultand/.local/lib/python3.12/site-packages (from torch>=2.1.0->pytorch_lightning) (9.1.0.70)\n",
      "Requirement already satisfied: nvidia-cublas-cu12==12.1.3.1 in /home/sultand/.local/lib/python3.12/site-packages (from torch>=2.1.0->pytorch_lightning) (12.1.3.1)\n",
      "Requirement already satisfied: nvidia-cufft-cu12==11.0.2.54 in /home/sultand/.local/lib/python3.12/site-packages (from torch>=2.1.0->pytorch_lightning) (11.0.2.54)\n",
      "Requirement already satisfied: nvidia-curand-cu12==10.3.2.106 in /home/sultand/.local/lib/python3.12/site-packages (from torch>=2.1.0->pytorch_lightning) (10.3.2.106)\n",
      "Requirement already satisfied: nvidia-cusolver-cu12==11.4.5.107 in /home/sultand/.local/lib/python3.12/site-packages (from torch>=2.1.0->pytorch_lightning) (11.4.5.107)\n",
      "Requirement already satisfied: nvidia-cusparse-cu12==12.1.0.106 in /home/sultand/.local/lib/python3.12/site-packages (from torch>=2.1.0->pytorch_lightning) (12.1.0.106)\n",
      "Requirement already satisfied: nvidia-nccl-cu12==2.20.5 in /home/sultand/.local/lib/python3.12/site-packages (from torch>=2.1.0->pytorch_lightning) (2.20.5)\n",
      "Requirement already satisfied: nvidia-nvtx-cu12==12.1.105 in /home/sultand/.local/lib/python3.12/site-packages (from torch>=2.1.0->pytorch_lightning) (12.1.105)\n",
      "Requirement already satisfied: triton==3.0.0 in /home/sultand/.local/lib/python3.12/site-packages (from torch>=2.1.0->pytorch_lightning) (3.0.0)\n",
      "Requirement already satisfied: nvidia-nvjitlink-cu12 in /home/sultand/.local/lib/python3.12/site-packages (from nvidia-cusolver-cu12==11.4.5.107->torch>=2.1.0->pytorch_lightning) (12.6.77)\n",
      "Requirement already satisfied: numpy>1.20.0 in /home/sultand/.local/lib/python3.12/site-packages (from torchmetrics>=0.7.0->pytorch_lightning) (2.1.1)\n",
      "Requirement already satisfied: aiohappyeyeballs>=2.3.0 in /home/sultand/.local/lib/python3.12/site-packages (from aiohttp!=4.0.0a0,!=4.0.0a1->fsspec[http]>=2022.5.0->pytorch_lightning) (2.4.3)\n",
      "Requirement already satisfied: aiosignal>=1.1.2 in /home/sultand/.local/lib/python3.12/site-packages (from aiohttp!=4.0.0a0,!=4.0.0a1->fsspec[http]>=2022.5.0->pytorch_lightning) (1.3.1)\n",
      "Requirement already satisfied: attrs>=17.3.0 in /home/sultand/.local/lib/python3.12/site-packages (from aiohttp!=4.0.0a0,!=4.0.0a1->fsspec[http]>=2022.5.0->pytorch_lightning) (24.2.0)\n",
      "Requirement already satisfied: frozenlist>=1.1.1 in /home/sultand/.local/lib/python3.12/site-packages (from aiohttp!=4.0.0a0,!=4.0.0a1->fsspec[http]>=2022.5.0->pytorch_lightning) (1.4.1)\n",
      "Requirement already satisfied: multidict<7.0,>=4.5 in /home/sultand/.local/lib/python3.12/site-packages (from aiohttp!=4.0.0a0,!=4.0.0a1->fsspec[http]>=2022.5.0->pytorch_lightning) (6.1.0)\n",
      "Requirement already satisfied: yarl<2.0,>=1.12.0 in /home/sultand/.local/lib/python3.12/site-packages (from aiohttp!=4.0.0a0,!=4.0.0a1->fsspec[http]>=2022.5.0->pytorch_lightning) (1.13.1)\n",
      "Requirement already satisfied: MarkupSafe>=2.0 in /home/sultand/.local/lib/python3.12/site-packages (from jinja2->torch>=2.1.0->pytorch_lightning) (2.1.5)\n",
      "Requirement already satisfied: mpmath<1.4,>=1.1.0 in /home/sultand/.local/lib/python3.12/site-packages (from sympy->torch>=2.1.0->pytorch_lightning) (1.3.0)\n",
      "Requirement already satisfied: idna>=2.0 in /opt/miniconda/lib/python3.12/site-packages (from yarl<2.0,>=1.12.0->aiohttp!=4.0.0a0,!=4.0.0a1->fsspec[http]>=2022.5.0->pytorch_lightning) (3.7)\n"
     ]
    }
   ],
   "source": [
    "!pip install pytorch_lightning"
   ]
  },
  {
   "cell_type": "code",
   "execution_count": 20,
   "metadata": {},
   "outputs": [
    {
     "name": "stdout",
     "output_type": "stream",
     "text": [
      "/home/sultand/mop_modifications\n"
     ]
    }
   ],
   "source": [
    "import numpy as np\n",
    "import matplotlib.pyplot as plt\n",
    "import pickle\n",
    "import os\n",
    "print(os.getcwd())\n",
    "import time\n",
    "\n",
    "#import empirical cdf\n",
    "import sys\n",
    "sys.path.append(os.path.abspath('streamlined_mop/src'))\n",
    "\n",
    "from check_ecdf import get_empirical_cdf\n",
    "from core import Config"
   ]
  },
  {
   "cell_type": "code",
   "execution_count": 15,
   "metadata": {},
   "outputs": [
    {
     "name": "stdout",
     "output_type": "stream",
     "text": [
      "context_len: 250\n",
      "trainA: rotDiagA\n",
      "valA: upperTriA\n",
      "num_val_systems: 1000\n",
      "experiment string: 240617_150023.5e81de_rotDiagA_gauss_C\n"
     ]
    }
   ],
   "source": [
    "#experiment details\n",
    "config = Config()\n",
    "trainA = \"upperTriA\" #\"unifA\" #\"gaussA\" #\"gaussA_noscale\" #\"rotDiagA\" #\"rotDiagA_unif\" #\"rotDiagA_gauss\" #\"upperTriA\" #\"single_system\" #\"cond_num\"\n",
    "valA = \"upperTriA\" #\"unifA\" #\"gaussA\" #\"gaussA_noscale\" #\"rotDiagA\" #\"rotDiagA_unif\" #\"rotDiagA_gauss\" #\"upperTriA\" #\"single_system\" #\"cond_num\"\n",
    "num_val_systems = 1000\n",
    "context_len = 250\n",
    "print('context_len:', context_len)\n",
    "print('trainA:', trainA)\n",
    "print('valA:', valA)\n",
    "print(\"num_val_systems:\", num_val_systems)\n",
    "C_dist = \"_gauss_C\" #\"_unif_C\" #\"_gauss_C\" #\"_gauss_C_large_var\" #\"_single_system\"\n",
    "ckpt_step = 192000\n",
    "experiment = '240619_070456.1e49ad_upperTriA_gauss_C'\n",
    "print(\"experiment string:\", experiment)\n"
   ]
  },
  {
   "cell_type": "code",
   "execution_count": 16,
   "metadata": {},
   "outputs": [
    {
     "name": "stdout",
     "output_type": "stream",
     "text": [
      "/home/sultand/mop_modifications/streamlined_mop/outputs/GPT2/240617_150023.5e81de_rotDiagA_gauss_C/prediction_errors_gauss_C_step=192000.ckpt/upperTriA_err_lss.pkl\n"
     ]
    }
   ],
   "source": [
    "#print the absolute path of the experiment\n",
    "print(os.path.abspath(f\"../mop_modifications/streamlined_mop/outputs/GPT2/{experiment}/prediction_errors{C_dist}_step={str(ckpt_step)}.ckpt/{valA}_err_lss.pkl\"))\n",
    "\n",
    "#load prediction errors\n",
    "\n",
    "with open(f\"../mop_modifications/streamlined_mop/outputs/GPT2/{experiment}/prediction_errors{C_dist}_step={str(ckpt_step)}.ckpt/{valA}_err_lss.pkl\", 'rb') as f:\n",
    "    err_lss = pickle.load(f)\n"
   ]
  },
  {
   "cell_type": "code",
   "execution_count": 4,
   "metadata": {},
   "outputs": [
    {
     "name": "stdout",
     "output_type": "stream",
     "text": [
      "Kalman (1000, 2000, 251)\n",
      "MOP (1000, 2000, 251)\n",
      "MOP_analytical (1000, 2000, 251)\n",
      "Zero (1000, 2000, 251)\n",
      "Analytical_Kalman (1000, 250)\n",
      "Analytical_Simulation (1000, 2000, 251)\n",
      "OLS_ir_1 (1000, 2000, 251)\n",
      "OLS_analytical_ir_1 (1000, 2000, 251)\n",
      "OLS_ir_2_unreg (1000, 2000, 251)\n",
      "OLS_analytical_ir_2_unreg (1000, 2000, 251)\n",
      "OLS_ir_2 (1000, 2000, 251)\n",
      "OLS_analytical_ir_2 (1000, 2000, 251)\n",
      "OLS_ir_3 (1000, 2000, 251)\n",
      "OLS_analytical_ir_3 (1000, 2000, 251)\n"
     ]
    }
   ],
   "source": [
    "for key in err_lss.keys():\n",
    "    print(key, err_lss[key].shape)"
   ]
  },
  {
   "cell_type": "code",
   "execution_count": 17,
   "metadata": {},
   "outputs": [
    {
     "name": "stdout",
     "output_type": "stream",
     "text": [
      "[ 50 150 250]\n",
      "MOP (1000, 2000, 251)\n",
      "idx: 50\n",
      "idx: 150\n",
      "idx: 250\n",
      "Analytical_Kalman (1000, 250)\n",
      "(2000000, 251)\n",
      "idx: 50\n",
      "idx: 150\n",
      "idx: 250\n",
      "Analytical_Simulation (1000, 2000, 251)\n"
     ]
    }
   ],
   "source": [
    "#give a list of colors that is as long as the len of err_lss.keys()\n",
    "num_preds = 6 #number of predictors to plot\n",
    "colors = plt.cm.tab10(np.linspace(0, 1, num_preds))\n",
    "\n",
    "m = 3\n",
    "xlim = 20\n",
    "# choose m evenly spaced indexes between 50 and context_len\n",
    "idxs = np.linspace(50, context_len, m).astype(int)\n",
    "print(idxs)\n",
    "\n",
    "#create a figure with subplots for each of the m indexes for the cdfs\n",
    "fig_cdf, ax_cdf = plt.subplots(m, 1, figsize=(10, 18), sharex=True)\n",
    "\n",
    "#create a figure with subplots for each of the m indexes for the ccdfs\n",
    "fig_ccdf, ax_ccdf = plt.subplots(m, 1, figsize=(10, 18), sharex=True)\n",
    "\n",
    "handles_cdf = []\n",
    "handles_ccdf = []\n",
    "labels = []\n",
    "\n",
    "col = 0\n",
    "for (name, errs) in err_lss.items():\n",
    "\n",
    "    plot_flag = False\n",
    "    if not (name == \"Analytical_Kalman\" or name == \"Kalman\" or name == \"OLS_ir_2_unreg\" or \"analytical\" in name or name == \"Zero\"):\n",
    "\n",
    "        print(name, errs.shape)\n",
    "        labels.append(name)\n",
    "        ratios = errs/err_lss[\"Kalman\"]\n",
    "\n",
    "        #flatten the ratios along axis 0 but keep axis 2\n",
    "        ratios = ratios.reshape(-1, ratios.shape[2])\n",
    "\n",
    "        plot_flag = True\n",
    "    \n",
    "    elif name == \"Analytical_Kalman\": #plot the analytical kalman filter\n",
    "        print(name, errs.shape)\n",
    "        labels.append(name)\n",
    "        t = np.arange(err_lss[\"Kalman\"].shape[-1])\n",
    "        #take the reciprocal of every element in err_lss[\"Kalman\"]\n",
    "        rec_kalman = 1/err_lss[\"Kalman\"]\n",
    "        #multiply rec_kalman by err_ls[:][0] elementwise\n",
    "        irr_err = errs[:,0]\n",
    "        ratios = rec_kalman * irr_err[:,np.newaxis, np.newaxis]\n",
    "        #flatten the ratios along axis 0 but keep axis 2\n",
    "        ratios = ratios.reshape(-1, ratios.shape[2])\n",
    "        print(ratios.shape)\n",
    "\n",
    "        plot_flag = True\n",
    "\n",
    "    if plot_flag:\n",
    "        i = 0\n",
    "        for idx in idxs:\n",
    "            print(f\"idx: {idx}\")\n",
    "            #get the empirical cdf of the ratios\n",
    "            ecdf = get_empirical_cdf(ratios[:, idx])\n",
    "\n",
    "            #plot the cdf\n",
    "            line_cdf, = ax_cdf[i].step(ecdf.x, ecdf.y, where='post', label=name, marker= \"*\" if name == \"MOP\" else None, color=colors[col], markersize=2,zorder=num_preds-col)\n",
    "            ax_cdf[i].set_title(f'CDF for Index {idx}')\n",
    "            ax_cdf[i].set_ylabel('CDF')\n",
    "            ax_cdf[i].set_xlabel('Ratio')\n",
    "            ax_cdf[i].set_xlim([0, xlim])\n",
    "\n",
    "\n",
    "            #plot the ccdf\n",
    "            line_ccdf, = ax_ccdf[i].step(ecdf.x, 1-ecdf.y, where='post', label=name, marker= \"*\" if name == \"MOP\" else None, color=colors[col], markersize=2,zorder=num_preds-col)\n",
    "            ax_ccdf[i].set_title(f'CCDF for Index {idx}')\n",
    "            ax_ccdf[i].set_ylabel('CCDF')\n",
    "            ax_ccdf[i].set_xlabel('Ratio')\n",
    "            ax_ccdf[i].set_xlim([0, xlim])\n",
    "\n",
    "            i += 1\n",
    "\n",
    "        handles_cdf.append(line_cdf)\n",
    "        handles_ccdf.append(line_ccdf)\n",
    "        col += 1\n",
    "\n",
    "fig_cdf.legend(handles_cdf, labels, loc='center right')\n",
    "fig_ccdf.legend(handles_ccdf, labels, loc='center right')\n",
    "\n",
    "#set the title of the figures to include training and validation datasets, number of validation systems checkpoint step\n",
    "fig_cdf.suptitle(f'CDF of (Pred Err)/(Emp KF Err) Train: {trainA} Val: {valA}. # val sys: {num_val_systems}. Step: {ckpt_step}',y=0.95)\n",
    "fig_ccdf.suptitle(f'CCDF of (Pred Err)/(Emp KF Err) Train: {trainA} Val: {valA}. # val sys: {num_val_systems}. Step: {ckpt_step}',y=0.95)\n",
    "\n",
    "#set a caption that has the timestep of the plot\n",
    "fig_cdf.text(0.5, 0.01, f'Generated at {time.ctime()}', ha='center')\n",
    "fig_ccdf.text(0.5, 0.01, f'Generated at {time.ctime()}', ha='center')\n",
    "\n",
    "#save the figures\n",
    "#set the filename to include the training and validation datasets, number of validation systems, the checkpoint step, and the timestamp\n",
    "filename_cdf = f'cdf_train_{trainA}_val_{valA}_val_sys_{num_val_systems}_step_{ckpt_step}_{time.time()}.png'\n",
    "filename_ccdf = f'ccdf_train_{trainA}_val_{valA}_val_sys_{num_val_systems}_step_{ckpt_step}_{time.time()}.png'\n",
    "\n",
    "# set the filepath to the figures directory within the experiment directory\n",
    "filepath_cdf = os.path.abspath(f\"../mop_modifications/streamlined_mop/outputs/GPT2/{experiment}/figures/{filename_cdf}\")\n",
    "filepath_ccdf = os.path.abspath(f\"../mop_modifications/streamlined_mop/outputs/GPT2/{experiment}/figures/{filename_ccdf}\")\n",
    "\n",
    "#save the figures\n",
    "fig_cdf.savefig(filepath_cdf)\n",
    "fig_ccdf.savefig(filepath_ccdf)\n",
    "\n"
   ]
  },
  {
   "cell_type": "code",
   "execution_count": null,
   "metadata": {},
   "outputs": [],
   "source": []
  }
 ],
 "metadata": {
  "kernelspec": {
   "display_name": "Python 3 (ipykernel)",
   "language": "python",
   "name": "python3"
  }
 },
 "nbformat": 4,
 "nbformat_minor": 2
}
